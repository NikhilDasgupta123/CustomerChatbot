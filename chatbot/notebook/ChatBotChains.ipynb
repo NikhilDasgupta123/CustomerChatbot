{
 "cells": [
  {
   "cell_type": "code",
   "execution_count": 1,
   "metadata": {},
   "outputs": [],
   "source": [
    "from langchain_community.utilities import SQLDatabase\n",
    "from pyprojroot import here\n",
    "import warnings\n",
    "warnings.filterwarnings(\"ignore\")"
   ]
  },
  {
   "cell_type": "code",
   "execution_count": 2,
   "metadata": {},
   "outputs": [
    {
     "name": "stdout",
     "output_type": "stream",
     "text": [
      "Environment variables are loaded: True\n"
     ]
    }
   ],
   "source": [
    "from dotenv import load_dotenv\n",
    "import os\n",
    "\n",
    "print(\"Environment variables are loaded:\", load_dotenv())"
   ]
  },
  {
   "cell_type": "code",
   "execution_count": 3,
   "metadata": {},
   "outputs": [
    {
     "name": "stderr",
     "output_type": "stream",
     "text": [
      "c:\\Nikhil\\CustomerChatBot\\env\\Lib\\site-packages\\langchain_core\\_api\\deprecation.py:139: LangChainDeprecationWarning: The class `AzureChatOpenAI` was deprecated in LangChain 0.0.10 and will be removed in 0.3.0. An updated version of the class exists in the langchain-openai package and should be used instead. To use it run `pip install -U langchain-openai` and import as `from langchain_openai import AzureChatOpenAI`.\n",
      "  warn_deprecated(\n"
     ]
    }
   ],
   "source": [
    "# Load the LLM\n",
    "from langchain.chat_models import AzureChatOpenAI\n",
    "import os\n",
    "\n",
    "model_name = os.getenv(\"AZURE_OPENAI_API_DEPLOYMENT_NAME\")\n",
    "azure_openai_api_key = os.environ[\"AZURE_OPENAI_API_KEY\"]\n",
    "azure_openai_endpoint = os.environ[\"AZURE_OPENAI_ENDPOINT\"]\n",
    "\n",
    "llm = AzureChatOpenAI(\n",
    "    openai_api_version=os.getenv(\"AZURE_OPENAI_API_VERSION\"),\n",
    "    azure_deployment=model_name,\n",
    "    model_name=model_name,\n",
    "    temperature=0.0)"
   ]
  },
  {
   "cell_type": "code",
   "execution_count": 4,
   "metadata": {},
   "outputs": [],
   "source": [
    "db_user = \"root\"\n",
    "db_password = \"1234\"\n",
    "db_host = \"localhost\"\n",
    "db_name = \"chatbot\"\n",
    "\n",
    "db = SQLDatabase.from_uri(f\"mysql+mysqlconnector://{db_user}:{db_password}@{db_host}/{db_name}\")"
   ]
  },
  {
   "cell_type": "code",
   "execution_count": 5,
   "metadata": {},
   "outputs": [
    {
     "name": "stdout",
     "output_type": "stream",
     "text": [
      "mysql\n",
      "['customer', 'order', 'product', 'shipment']\n",
      "\n",
      "CREATE TABLE `order` (\n",
      "\torder_id INTEGER NOT NULL, \n",
      "\tcustomer_id INTEGER, \n",
      "\tproduct_id INTEGER, \n",
      "\torder_date DATE, \n",
      "\tstatus VARCHAR(255), \n",
      "\tquantity INTEGER, \n",
      "\ttotal_price DECIMAL(10, 2), \n",
      "\tPRIMARY KEY (order_id), \n",
      "\tCONSTRAINT order_ibfk_1 FOREIGN KEY(customer_id) REFERENCES customer (customer_id), \n",
      "\tCONSTRAINT order_ibfk_2 FOREIGN KEY(product_id) REFERENCES product (product_id)\n",
      ")ENGINE=InnoDB DEFAULT CHARSET=utf8mb4 COLLATE utf8mb4_0900_ai_ci\n",
      "\n",
      "/*\n",
      "3 rows from order table:\n",
      "order_id\tcustomer_id\tproduct_id\torder_date\tstatus\tquantity\ttotal_price\n",
      "300\t100\t200\t2024-06-01\tShipped\t1\t999.99\n",
      "301\t101\t201\t2024-06-02\tProcessing\t2\t1599.98\n",
      "302\t102\t202\t2024-06-03\tDelivered\t1\t199.99\n",
      "*/\n",
      "\n",
      "\n",
      "CREATE TABLE customer (\n",
      "\tcustomer_id INTEGER NOT NULL, \n",
      "\tfirst_name VARCHAR(255), \n",
      "\tlast_name VARCHAR(255), \n",
      "\temail VARCHAR(255), \n",
      "\tphone_number VARCHAR(255), \n",
      "\taddress VARCHAR(255), \n",
      "\tPRIMARY KEY (customer_id)\n",
      ")ENGINE=InnoDB DEFAULT CHARSET=utf8mb4 COLLATE utf8mb4_0900_ai_ci\n",
      "\n",
      "/*\n",
      "3 rows from customer table:\n",
      "customer_id\tfirst_name\tlast_name\temail\tphone_number\taddress\n",
      "100\tJohn\tDoe\tjohn.doe@example.com\t123-456-7890\t123 Elm St.\n",
      "101\tJane\tSmith\tjane.smith@example.com\t234-567-8901\t234 Oak St.\n",
      "102\tAlice\tJohnson\talice.johnson@example.com\t345-678-9012\t345 Pine St.\n",
      "*/\n",
      "\n",
      "\n",
      "CREATE TABLE product (\n",
      "\tproduct_id INTEGER NOT NULL, \n",
      "\tproduct_name VARCHAR(255), \n",
      "\tdescription TEXT, \n",
      "\tprice DECIMAL(10, 2), \n",
      "\tavailability TINYINT(1), \n",
      "\tspecifications TEXT, \n",
      "\tPRIMARY KEY (product_id)\n",
      ")ENGINE=InnoDB DEFAULT CHARSET=utf8mb4 COLLATE utf8mb4_0900_ai_ci\n",
      "\n",
      "/*\n",
      "3 rows from product table:\n",
      "product_id\tproduct_name\tdescription\tprice\tavailability\tspecifications\n",
      "200\tLaptop\tHigh performance laptop\t999.99\t1\t16GB RAM, 512GB SSD\n",
      "201\tSmartphone\tLatest model smartphone\t799.99\t1\t128GB Storage, 5G\n",
      "202\tHeadphones\tNoise-cancelling headphones\t199.99\t1\tBluetooth, Over-ear\n",
      "*/\n",
      "\n",
      "\n",
      "CREATE TABLE shipment (\n",
      "\tshipment_id INTEGER NOT NULL, \n",
      "\torder_id INTEGER, \n",
      "\tshipment_date DATE, \n",
      "\testimated_arrival DATE, \n",
      "\tcurrent_status VARCHAR(255), \n",
      "\terror_details TEXT, \n",
      "\ttracker_id VARCHAR(255), \n",
      "\tPRIMARY KEY (shipment_id), \n",
      "\tCONSTRAINT shipment_ibfk_1 FOREIGN KEY(order_id) REFERENCES `order` (order_id)\n",
      ")ENGINE=InnoDB DEFAULT CHARSET=utf8mb4 COLLATE utf8mb4_0900_ai_ci\n",
      "\n",
      "/*\n",
      "3 rows from shipment table:\n",
      "shipment_id\torder_id\tshipment_date\testimated_arrival\tcurrent_status\terror_details\ttracker_id\n",
      "400\t300\t2024-06-02\t2024-06-05\tIn Transit\tNone\tTRACK1001\n",
      "401\t301\t2024-06-03\t2024-06-06\tPending\tNone\tTRACK1002\n",
      "402\t302\t2024-06-04\t2024-06-07\tDelivered\tNone\tTRACK1003\n",
      "*/\n"
     ]
    }
   ],
   "source": [
    "print(db.dialect)\n",
    "print(db.get_usable_table_names())\n",
    "print(db.table_info)"
   ]
  },
  {
   "cell_type": "code",
   "execution_count": 5,
   "metadata": {},
   "outputs": [
    {
     "data": {
      "text/plain": [
       "<langchain_community.utilities.sql_database.SQLDatabase at 0x21ca1312c00>"
      ]
     },
     "execution_count": 5,
     "metadata": {},
     "output_type": "execute_result"
    }
   ],
   "source": [
    "db"
   ]
  },
  {
   "cell_type": "code",
   "execution_count": 6,
   "metadata": {},
   "outputs": [],
   "source": [
    "from langchain_core.prompts import ChatPromptTemplate\n",
    "\n",
    "template = \"\"\"Based on the table schema below, write a SQL query that would answer the user's question:\n",
    "{schema}\n",
    "\n",
    "Question: {question}\n",
    "SQL Query:\"\"\"\n",
    "prompt = ChatPromptTemplate.from_template(template)\n"
   ]
  },
  {
   "cell_type": "code",
   "execution_count": 7,
   "metadata": {},
   "outputs": [],
   "source": [
    "def get_schema(_):\n",
    "    return db.get_table_info()"
   ]
  },
  {
   "cell_type": "code",
   "execution_count": 8,
   "metadata": {},
   "outputs": [],
   "source": [
    "from langchain_core.output_parsers import StrOutputParser\n",
    "from langchain_core.runnables import RunnablePassthrough\n",
    "\n",
    "\n",
    "\n",
    "sql_chain = (\n",
    "    RunnablePassthrough.assign(schema=get_schema)\n",
    "    | prompt\n",
    "    | llm.bind(stop=[\"\\nSQLResult:\"])\n",
    "    | StrOutputParser()\n",
    ")\n"
   ]
  },
  {
   "cell_type": "code",
   "execution_count": 9,
   "metadata": {},
   "outputs": [
    {
     "data": {
      "text/plain": [
       "'SELECT COUNT(*) FROM customer;'"
      ]
     },
     "execution_count": 9,
     "metadata": {},
     "output_type": "execute_result"
    }
   ],
   "source": [
    "sql_chain.invoke({'question':\"How many customer are there?\"})"
   ]
  },
  {
   "cell_type": "markdown",
   "metadata": {},
   "source": [
    "New Template"
   ]
  },
  {
   "cell_type": "code",
   "execution_count": 10,
   "metadata": {},
   "outputs": [],
   "source": [
    "template = \"\"\"Based on the table schema below, question, sql query, and sql response, write a natural language response:\n",
    "{schema}\n",
    "\n",
    "Question: {question}\n",
    "SQL Query: {query}\n",
    "SQL Response: {response}\"\"\"\n",
    "prompt_response = ChatPromptTemplate.from_template(template)\n"
   ]
  },
  {
   "cell_type": "code",
   "execution_count": 11,
   "metadata": {},
   "outputs": [],
   "source": [
    "def run_query(query): # query will be string\n",
    "    return db.run(query)"
   ]
  },
  {
   "cell_type": "code",
   "execution_count": 12,
   "metadata": {},
   "outputs": [
    {
     "data": {
      "text/plain": [
       "\"[(100, 'John', 'Doe', 'john.doe@example.com', '123-456-7890', '123 Elm St.'), (101, 'Jane', 'Smith', 'jane.smith@example.com', '234-567-8901', '234 Oak St.'), (102, 'Alice', 'Johnson', 'alice.johnson@example.com', '345-678-9012', '345 Pine St.'), (103, 'Bob', 'Williams', 'bob.williams@example.com', '456-789-0123', '456 Maple St.'), (104, 'Carol', 'Brown', 'carol.brown@example.com', '567-890-1234', '567 Cedar St.'), (105, 'David', 'Jones', 'david.jones@example.com', '678-901-2345', '678 Birch St.'), (106, 'Eve', 'Garcia', 'eve.garcia@example.com', '789-012-3456', '789 Walnut St.'), (107, 'Frank', 'Miller', 'frank.miller@example.com', '890-123-4567', '890 Chestnut St.'), (108, 'Grace', 'Davis', 'grace.davis@example.com', '901-234-5678', '901 Redwood St.'), (109, 'Hank', 'Martinez', 'hank.martinez@example.com', '012-345-6789', '123 Sequoia St.')]\""
      ]
     },
     "execution_count": 12,
     "metadata": {},
     "output_type": "execute_result"
    }
   ],
   "source": [
    "run_query('select * from customer')"
   ]
  },
  {
   "cell_type": "markdown",
   "metadata": {},
   "source": [
    "Create Chain"
   ]
  },
  {
   "cell_type": "code",
   "execution_count": 13,
   "metadata": {},
   "outputs": [],
   "source": [
    "full_chain = (\n",
    "    RunnablePassthrough.assign(query=sql_chain).assign(\n",
    "        schema=get_schema,\n",
    "        response=lambda vars: run_query(vars[\"query\"]),\n",
    "    )\n",
    "    | prompt_response\n",
    "    | llm\n",
    ")\n"
   ]
  },
  {
   "cell_type": "code",
   "execution_count": 14,
   "metadata": {},
   "outputs": [
    {
     "data": {
      "text/plain": [
       "AIMessage(content='There are 10 customers in the database.', response_metadata={'token_usage': {'completion_tokens': 9, 'prompt_tokens': 798, 'total_tokens': 807}, 'model_name': 'gpt-35-turbo', 'system_fingerprint': None, 'finish_reason': 'stop', 'logprobs': None}, id='run-c5c93979-2935-4b4b-b908-52354b58d26f-0')"
      ]
     },
     "execution_count": 14,
     "metadata": {},
     "output_type": "execute_result"
    }
   ],
   "source": [
    "\n",
    "full_chain.invoke({\"question\": \"how many customer are there?\"})\n",
    "\n"
   ]
  },
  {
   "cell_type": "code",
   "execution_count": null,
   "metadata": {},
   "outputs": [],
   "source": []
  }
 ],
 "metadata": {
  "kernelspec": {
   "display_name": "env",
   "language": "python",
   "name": "python3"
  },
  "language_info": {
   "codemirror_mode": {
    "name": "ipython",
    "version": 3
   },
   "file_extension": ".py",
   "mimetype": "text/x-python",
   "name": "python",
   "nbconvert_exporter": "python",
   "pygments_lexer": "ipython3",
   "version": "3.12.0"
  }
 },
 "nbformat": 4,
 "nbformat_minor": 2
}
