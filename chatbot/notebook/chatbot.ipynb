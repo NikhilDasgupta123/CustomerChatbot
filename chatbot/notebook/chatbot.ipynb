{
 "cells": [
  {
   "cell_type": "code",
   "execution_count": 1,
   "metadata": {},
   "outputs": [],
   "source": [
    "from langchain_community.utilities import SQLDatabase\n",
    "from pyprojroot import here\n",
    "import warnings\n",
    "warnings.filterwarnings(\"ignore\")"
   ]
  },
  {
   "cell_type": "code",
   "execution_count": 2,
   "metadata": {},
   "outputs": [],
   "source": [
    "db_user = \"root\"\n",
    "db_password = \"1234\"\n",
    "db_host = \"localhost\"\n",
    "db_name = \"chatbot\"\n",
    "\n",
    "db = SQLDatabase.from_uri(f\"mysql+mysqlconnector://{db_user}:{db_password}@{db_host}/{db_name}\")"
   ]
  },
  {
   "cell_type": "code",
   "execution_count": 3,
   "metadata": {},
   "outputs": [
    {
     "name": "stdout",
     "output_type": "stream",
     "text": [
      "mysql\n",
      "['customer', 'order', 'product', 'shipment']\n",
      "\n",
      "CREATE TABLE `order` (\n",
      "\torder_id INTEGER NOT NULL, \n",
      "\tcustomer_id INTEGER, \n",
      "\tproduct_id INTEGER, \n",
      "\torder_date DATE, \n",
      "\tstatus VARCHAR(255), \n",
      "\tquantity INTEGER, \n",
      "\ttotal_price DECIMAL(10, 2), \n",
      "\tPRIMARY KEY (order_id), \n",
      "\tCONSTRAINT order_ibfk_1 FOREIGN KEY(customer_id) REFERENCES customer (customer_id), \n",
      "\tCONSTRAINT order_ibfk_2 FOREIGN KEY(product_id) REFERENCES product (product_id)\n",
      ")DEFAULT CHARSET=utf8mb4 ENGINE=InnoDB COLLATE utf8mb4_0900_ai_ci\n",
      "\n",
      "/*\n",
      "3 rows from order table:\n",
      "order_id\tcustomer_id\tproduct_id\torder_date\tstatus\tquantity\ttotal_price\n",
      "300\t100\t200\t2024-06-01\tShipped\t1\t999.99\n",
      "301\t101\t201\t2024-06-02\tProcessing\t2\t1599.98\n",
      "302\t102\t202\t2024-06-03\tDelivered\t1\t199.99\n",
      "*/\n",
      "\n",
      "\n",
      "CREATE TABLE customer (\n",
      "\tcustomer_id INTEGER NOT NULL, \n",
      "\tfirst_name VARCHAR(255), \n",
      "\tlast_name VARCHAR(255), \n",
      "\temail VARCHAR(255), \n",
      "\tphone_number VARCHAR(255), \n",
      "\taddress VARCHAR(255), \n",
      "\tPRIMARY KEY (customer_id)\n",
      ")DEFAULT CHARSET=utf8mb4 ENGINE=InnoDB COLLATE utf8mb4_0900_ai_ci\n",
      "\n",
      "/*\n",
      "3 rows from customer table:\n",
      "customer_id\tfirst_name\tlast_name\temail\tphone_number\taddress\n",
      "100\tJohn\tDoe\tjohn.doe@example.com\t123-456-7890\t123 Elm St.\n",
      "101\tJane\tSmith\tjane.smith@example.com\t234-567-8901\t234 Oak St.\n",
      "102\tAlice\tJohnson\talice.johnson@example.com\t345-678-9012\t345 Pine St.\n",
      "*/\n",
      "\n",
      "\n",
      "CREATE TABLE product (\n",
      "\tproduct_id INTEGER NOT NULL, \n",
      "\tproduct_name VARCHAR(255), \n",
      "\tdescription TEXT, \n",
      "\tprice DECIMAL(10, 2), \n",
      "\tavailability TINYINT(1), \n",
      "\tspecifications TEXT, \n",
      "\tPRIMARY KEY (product_id)\n",
      ")DEFAULT CHARSET=utf8mb4 ENGINE=InnoDB COLLATE utf8mb4_0900_ai_ci\n",
      "\n",
      "/*\n",
      "3 rows from product table:\n",
      "product_id\tproduct_name\tdescription\tprice\tavailability\tspecifications\n",
      "200\tLaptop\tHigh performance laptop\t999.99\t1\t16GB RAM, 512GB SSD\n",
      "201\tSmartphone\tLatest model smartphone\t799.99\t1\t128GB Storage, 5G\n",
      "202\tHeadphones\tNoise-cancelling headphones\t199.99\t1\tBluetooth, Over-ear\n",
      "*/\n",
      "\n",
      "\n",
      "CREATE TABLE shipment (\n",
      "\tshipment_id INTEGER NOT NULL, \n",
      "\torder_id INTEGER, \n",
      "\tshipment_date DATE, \n",
      "\testimated_arrival DATE, \n",
      "\tcurrent_status VARCHAR(255), \n",
      "\terror_details TEXT, \n",
      "\ttracker_id VARCHAR(255), \n",
      "\tPRIMARY KEY (shipment_id), \n",
      "\tCONSTRAINT shipment_ibfk_1 FOREIGN KEY(order_id) REFERENCES `order` (order_id)\n",
      ")DEFAULT CHARSET=utf8mb4 ENGINE=InnoDB COLLATE utf8mb4_0900_ai_ci\n",
      "\n",
      "/*\n",
      "3 rows from shipment table:\n",
      "shipment_id\torder_id\tshipment_date\testimated_arrival\tcurrent_status\terror_details\ttracker_id\n",
      "400\t300\t2024-06-02\t2024-06-05\tIn Transit\tNone\tTRACK1001\n",
      "401\t301\t2024-06-03\t2024-06-06\tPending\tNone\tTRACK1002\n",
      "402\t302\t2024-06-04\t2024-06-07\tDelivered\tNone\tTRACK1003\n",
      "*/\n"
     ]
    }
   ],
   "source": [
    "print(db.dialect)\n",
    "print(db.get_usable_table_names())\n",
    "print(db.table_info)"
   ]
  },
  {
   "cell_type": "code",
   "execution_count": 4,
   "metadata": {},
   "outputs": [
    {
     "data": {
      "text/plain": [
       "\"[(100, 'John', 'Doe', 'john.doe@example.com', '123-456-7890', '123 Elm St.'), (101, 'Jane', 'Smith', 'jane.smith@example.com', '234-567-8901', '234 Oak St.'), (102, 'Alice', 'Johnson', 'alice.johnson@example.com', '345-678-9012', '345 Pine St.'), (103, 'Bob', 'Williams', 'bob.williams@example.com', '456-789-0123', '456 Maple St.'), (104, 'Carol', 'Brown', 'carol.brown@example.com', '567-890-1234', '567 Cedar St.'), (105, 'David', 'Jones', 'david.jones@example.com', '678-901-2345', '678 Birch St.'), (106, 'Eve', 'Garcia', 'eve.garcia@example.com', '789-012-3456', '789 Walnut St.'), (107, 'Frank', 'Miller', 'frank.miller@example.com', '890-123-4567', '890 Chestnut St.'), (108, 'Grace', 'Davis', 'grace.davis@example.com', '901-234-5678', '901 Redwood St.'), (109, 'Hank', 'Martinez', 'hank.martinez@example.com', '012-345-6789', '123 Sequoia St.')]\""
      ]
     },
     "execution_count": 4,
     "metadata": {},
     "output_type": "execute_result"
    }
   ],
   "source": [
    "db.run(\"SELECT * FROM Customer;\")"
   ]
  },
  {
   "cell_type": "markdown",
   "metadata": {},
   "source": [
    "Test the access to the environment variables"
   ]
  },
  {
   "cell_type": "code",
   "execution_count": 7,
   "metadata": {},
   "outputs": [
    {
     "name": "stdout",
     "output_type": "stream",
     "text": [
      "Environment variables are loaded: True\n"
     ]
    }
   ],
   "source": [
    "from dotenv import load_dotenv\n",
    "import os\n",
    "\n",
    "print(\"Environment variables are loaded:\", load_dotenv())"
   ]
  },
  {
   "cell_type": "markdown",
   "metadata": {},
   "source": [
    "Test GPT"
   ]
  },
  {
   "cell_type": "code",
   "execution_count": 10,
   "metadata": {},
   "outputs": [],
   "source": [
    "from openai import AzureOpenAI\n",
    "\n",
    "messages = [\n",
    "    {\"role\": \"system\", \"content\": str(\n",
    "        \"You are a helpful assistant\"\n",
    "    )},\n",
    "    {\"role\": \"user\", \"content\": str(\"hello\")}\n",
    "]\n",
    "\n",
    "client = AzureOpenAI(\n",
    "    api_version=os.getenv(\"AZURE_OPENAI_API_VERSION\"),\n",
    "    azure_endpoint=os.getenv(\"AZURE_OPENAI_ENDPOINT\"),\n",
    "    api_key=os.getenv(\"AZURE_OPENAI_API_KEY\"),\n",
    ")\n",
    "\n",
    "response = client.chat.completions.create(\n",
    "    model=os.getenv(\"AZURE_OPENAI_API_DEPLOYMENT_NAME\"),\n",
    "    messages=messages\n",
    ")"
   ]
  },
  {
   "cell_type": "code",
   "execution_count": 11,
   "metadata": {},
   "outputs": [
    {
     "name": "stdout",
     "output_type": "stream",
     "text": [
      "Hello! How can I assist you today?\n"
     ]
    }
   ],
   "source": [
    "print(response.choices[0].message.content)"
   ]
  },
  {
   "cell_type": "markdown",
   "metadata": {},
   "source": [
    "SQL query chain"
   ]
  },
  {
   "cell_type": "code",
   "execution_count": 8,
   "metadata": {},
   "outputs": [
    {
     "name": "stderr",
     "output_type": "stream",
     "text": [
      "c:\\Nikhil\\CustomerChatBot\\env\\Lib\\site-packages\\langchain_core\\_api\\deprecation.py:139: LangChainDeprecationWarning: The class `AzureChatOpenAI` was deprecated in LangChain 0.0.10 and will be removed in 0.3.0. An updated version of the class exists in the langchain-openai package and should be used instead. To use it run `pip install -U langchain-openai` and import as `from langchain_openai import AzureChatOpenAI`.\n",
      "  warn_deprecated(\n"
     ]
    }
   ],
   "source": [
    "# Load the LLM\n",
    "from langchain.chat_models import AzureChatOpenAI\n",
    "import os\n",
    "\n",
    "model_name = os.getenv(\"AZURE_OPENAI_API_DEPLOYMENT_NAME\")\n",
    "azure_openai_api_key = os.environ[\"AZURE_OPENAI_API_KEY\"]\n",
    "azure_openai_endpoint = os.environ[\"AZURE_OPENAI_ENDPOINT\"]\n",
    "\n",
    "llm = AzureChatOpenAI(\n",
    "    openai_api_version=os.getenv(\"AZURE_OPENAI_API_VERSION\"),\n",
    "    azure_deployment=model_name,\n",
    "    model_name=model_name,\n",
    "    temperature=0.0)"
   ]
  },
  {
   "cell_type": "code",
   "execution_count": 17,
   "metadata": {},
   "outputs": [],
   "source": [
    "from langchain.chains import create_sql_query_chain"
   ]
  },
  {
   "cell_type": "code",
   "execution_count": 18,
   "metadata": {},
   "outputs": [
    {
     "name": "stdout",
     "output_type": "stream",
     "text": [
      "SELECT COUNT(*) AS `Total Customers` FROM customer\n"
     ]
    }
   ],
   "source": [
    "chain = create_sql_query_chain(llm, db)\n",
    "response = chain.invoke({'question': \"How may Customer are there\"})\n",
    "print(response)"
   ]
  },
  {
   "cell_type": "code",
   "execution_count": 19,
   "metadata": {},
   "outputs": [
    {
     "data": {
      "text/plain": [
       "'[(10,)]'"
      ]
     },
     "execution_count": 19,
     "metadata": {},
     "output_type": "execute_result"
    }
   ],
   "source": [
    "db.run(response)"
   ]
  },
  {
   "cell_type": "code",
   "execution_count": 16,
   "metadata": {},
   "outputs": [
    {
     "name": "stdout",
     "output_type": "stream",
     "text": [
      "You are a MySQL expert. Given an input question, first create a syntactically correct MySQL query to run, then look at the results of the query and return the answer to the input question.\n",
      "Unless the user specifies in the question a specific number of examples to obtain, query for at most 5 results using the LIMIT clause as per MySQL. You can order the results to return the most informative data in the database.\n",
      "Never query for all columns from a table. You must query only the columns that are needed to answer the question. Wrap each column name in backticks (`) to denote them as delimited identifiers.\n",
      "Pay attention to use only the column names you can see in the tables below. Be careful to not query for columns that do not exist. Also, pay attention to which column is in which table.\n",
      "Pay attention to use CURDATE() function to get the current date, if the question involves \"today\".\n",
      "\n",
      "Use the following format:\n",
      "\n",
      "Question: Question here\n",
      "SQLQuery: SQL Query to run\n",
      "SQLResult: Result of the SQLQuery\n",
      "Answer: Final answer here\n",
      "\n",
      "Only use the following tables:\n",
      "\u001b[33;1m\u001b[1;3m{table_info}\u001b[0m\n",
      "\n",
      "Question: \u001b[33;1m\u001b[1;3m{input}\u001b[0m\n"
     ]
    }
   ],
   "source": [
    "chain.get_prompts()[0].pretty_print()"
   ]
  },
  {
   "cell_type": "markdown",
   "metadata": {},
   "source": [
    "QuerySQLDataBaseTool (connect this to chain) "
   ]
  },
  {
   "cell_type": "code",
   "execution_count": 20,
   "metadata": {},
   "outputs": [],
   "source": [
    "from langchain_community.tools.sql_database.tool import QuerySQLDataBaseTool"
   ]
  },
  {
   "cell_type": "code",
   "execution_count": 21,
   "metadata": {},
   "outputs": [
    {
     "data": {
      "text/plain": [
       "'[(10,)]'"
      ]
     },
     "execution_count": 21,
     "metadata": {},
     "output_type": "execute_result"
    }
   ],
   "source": [
    "write_query = create_sql_query_chain(llm,db)\n",
    "execute_query = QuerySQLDataBaseTool(db=db)\n",
    "\n",
    "chain = write_query | execute_query\n",
    "\n",
    "chain.invoke({'question': \"How may Customer are there\"})"
   ]
  },
  {
   "cell_type": "markdown",
   "metadata": {},
   "source": [
    "Answer the question in a user friendly manner"
   ]
  },
  {
   "cell_type": "code",
   "execution_count": 19,
   "metadata": {},
   "outputs": [
    {
     "data": {
      "text/plain": [
       "'There are 3 customers.'"
      ]
     },
     "execution_count": 19,
     "metadata": {},
     "output_type": "execute_result"
    }
   ],
   "source": [
    "from operator import itemgetter\n",
    "from langchain_core.output_parsers import StrOutputParser # more structured and usable string format.\n",
    "from langchain_core.prompts import PromptTemplate\n",
    "from langchain_core.runnables import RunnablePassthrough # allows you to pass inputs unchanged\n",
    "\n",
    "answer_prompt = PromptTemplate.from_template(\n",
    "    \"\"\"Given the following user question, corresponding SQL query, and SQL result, answer the user question.\n",
    "\n",
    "Question: {question}\n",
    "SQL Query: {query}\n",
    "SQL Result: {result}\n",
    "Answer: \"\"\"\n",
    ")\n",
    "\n",
    "# Answer Chain\n",
    "answer = answer_prompt | llm | StrOutputParser()\n",
    "\n",
    "chain = (\n",
    "    RunnablePassthrough.assign(query=write_query).assign(\n",
    "        result=itemgetter(\"query\") | execute_query\n",
    "    )\n",
    "    | answer\n",
    ")\n",
    "\n",
    "chain.invoke({'question': \"How may Customer are there\"})"
   ]
  },
  {
   "cell_type": "markdown",
   "metadata": {},
   "source": [
    "Agents"
   ]
  },
  {
   "cell_type": "code",
   "execution_count": 20,
   "metadata": {},
   "outputs": [],
   "source": [
    "from langchain_community.agent_toolkits import create_sql_agent\n",
    "\n",
    "agent_executor = create_sql_agent(llm, db=db, agent_type=\"openai-tools\", verbose=True)"
   ]
  },
  {
   "cell_type": "code",
   "execution_count": 21,
   "metadata": {},
   "outputs": [
    {
     "name": "stdout",
     "output_type": "stream",
     "text": [
      "\n",
      "\n",
      "\u001b[1m> Entering new SQL Agent Executor chain...\u001b[0m\n",
      "\u001b[32;1m\u001b[1;3m\n",
      "Invoking: `sql_db_list_tables` with `{}`\n",
      "\n",
      "\n",
      "\u001b[0m\u001b[38;5;200m\u001b[1;3mcustomer, order, product, shipment\u001b[0m\u001b[32;1m\u001b[1;3m\n",
      "Invoking: `sql_db_schema` with `{'table_names': 'customer, order, product, shipment'}`\n",
      "\n",
      "\n",
      "\u001b[0m\u001b[33;1m\u001b[1;3m\n",
      "CREATE TABLE `order` (\n",
      "\torder_id INTEGER NOT NULL, \n",
      "\tcustomer_id INTEGER, \n",
      "\tproduct_id INTEGER, \n",
      "\torder_date DATE, \n",
      "\tstatus VARCHAR(255), \n",
      "\tquantity INTEGER, \n",
      "\ttotal_price DECIMAL(10, 2), \n",
      "\tPRIMARY KEY (order_id), \n",
      "\tCONSTRAINT order_ibfk_1 FOREIGN KEY(customer_id) REFERENCES customer (customer_id), \n",
      "\tCONSTRAINT order_ibfk_2 FOREIGN KEY(product_id) REFERENCES product (product_id)\n",
      ")ENGINE=InnoDB DEFAULT CHARSET=utf8mb4 COLLATE utf8mb4_0900_ai_ci\n",
      "\n",
      "/*\n",
      "3 rows from order table:\n",
      "order_id\tcustomer_id\tproduct_id\torder_date\tstatus\tquantity\ttotal_price\n",
      "1\t1\t1\t2024-06-01\tShipped\t1\t999.99\n",
      "2\t2\t2\t2024-06-05\tProcessing\t2\t1399.98\n",
      "3\t3\t3\t2024-06-10\tDelivered\t1\t199.99\n",
      "*/\n",
      "\n",
      "\n",
      "CREATE TABLE customer (\n",
      "\tcustomer_id INTEGER NOT NULL, \n",
      "\tfirst_name VARCHAR(255), \n",
      "\tlast_name VARCHAR(255), \n",
      "\temail VARCHAR(255), \n",
      "\tphone_number VARCHAR(255), \n",
      "\taddress VARCHAR(255), \n",
      "\tPRIMARY KEY (customer_id)\n",
      ")ENGINE=InnoDB DEFAULT CHARSET=utf8mb4 COLLATE utf8mb4_0900_ai_ci\n",
      "\n",
      "/*\n",
      "3 rows from customer table:\n",
      "customer_id\tfirst_name\tlast_name\temail\tphone_number\taddress\n",
      "1\tJohn\tDoe\tjohn.doe@example.com\t123-456-7890\t123 Elm Street\n",
      "2\tJane\tSmith\tjane.smith@example.com\t987-654-3210\t456 Oak Avenue\n",
      "3\tAlice\tJohnson\talice.johnson@example.com\t555-123-4567\t789 Pine Road\n",
      "*/\n",
      "\n",
      "\n",
      "CREATE TABLE product (\n",
      "\tproduct_id INTEGER NOT NULL, \n",
      "\tproduct_name VARCHAR(255), \n",
      "\tdescription TEXT, \n",
      "\tprice DECIMAL(10, 2), \n",
      "\tavailability TINYINT(1), \n",
      "\tspecifications TEXT, \n",
      "\tPRIMARY KEY (product_id)\n",
      ")ENGINE=InnoDB DEFAULT CHARSET=utf8mb4 COLLATE utf8mb4_0900_ai_ci\n",
      "\n",
      "/*\n",
      "3 rows from product table:\n",
      "product_id\tproduct_name\tdescription\tprice\tavailability\tspecifications\n",
      "1\tLaptop\tA high performance laptop\t999.99\t1\tIntel i7, 16GB RAM, 512GB SSD\n",
      "2\tSmartphone\tA latest model smartphone\t699.99\t1\tSnapdragon 888, 8GB RAM, 128GB Storage\n",
      "3\tHeadphones\tNoise cancelling headphones\t199.99\t1\tOver-ear, Bluetooth\n",
      "*/\n",
      "\n",
      "\n",
      "CREATE TABLE shipment (\n",
      "\tshipment_id INTEGER NOT NULL, \n",
      "\torder_id INTEGER, \n",
      "\tshipment_date DATE, \n",
      "\testimated_arrival DATE, \n",
      "\tcurrent_status VARCHAR(255), \n",
      "\terror_details TEXT, \n",
      "\ttracker_id VARCHAR(255), \n",
      "\tPRIMARY KEY (shipment_id), \n",
      "\tCONSTRAINT shipment_ibfk_1 FOREIGN KEY(order_id) REFERENCES `order` (order_id)\n",
      ")ENGINE=InnoDB DEFAULT CHARSET=utf8mb4 COLLATE utf8mb4_0900_ai_ci\n",
      "\n",
      "/*\n",
      "3 rows from shipment table:\n",
      "shipment_id\torder_id\tshipment_date\testimated_arrival\tcurrent_status\terror_details\ttracker_id\n",
      "1\t1\t2024-06-02\t2024-06-07\tIn Transit\tNone\tTRACK12345\n",
      "2\t2\t2024-06-06\t2024-06-11\tProcessing\tDelayed due to inventory\tTRACK67890\n",
      "3\t3\t2024-06-11\t2024-06-16\tDelivered\tNone\tTRACK11223\n",
      "*/\u001b[0m\u001b[32;1m\u001b[1;3m\n",
      "Invoking: `sql_db_query` with `{'query': \"SELECT c.first_name, c.last_name FROM customer c JOIN `order` o ON c.customer_id = o.customer_id JOIN product p ON o.product_id = p.product_id WHERE p.product_name = 'Laptop'\"}`\n",
      "\n",
      "\n",
      "\u001b[0m\u001b[36;1m\u001b[1;3m[('John', 'Doe')]\u001b[0m\u001b[32;1m\u001b[1;3mThe customer who bought a laptop is John Doe.\u001b[0m\n",
      "\n",
      "\u001b[1m> Finished chain.\u001b[0m\n"
     ]
    },
    {
     "data": {
      "text/plain": [
       "{'input': 'Customer who buy laptop?',\n",
       " 'output': 'The customer who bought a laptop is John Doe.'}"
      ]
     },
     "execution_count": 21,
     "metadata": {},
     "output_type": "execute_result"
    }
   ],
   "source": [
    "agent_executor.invoke(\n",
    "    {\n",
    "       \"input\": \"Customer who buy laptop?\"\n",
    "    }\n",
    ")"
   ]
  },
  {
   "cell_type": "markdown",
   "metadata": {},
   "source": [
    "2nd method"
   ]
  },
  {
   "cell_type": "markdown",
   "metadata": {},
   "source": [
    "Create a SQL Chain"
   ]
  },
  {
   "cell_type": "code",
   "execution_count": 9,
   "metadata": {},
   "outputs": [],
   "source": [
    "from langchain_core.prompts import ChatPromptTemplate\n",
    "\n",
    "template = \"\"\"Based on the table schema below, write a SQL query that would answer the user's question:\n",
    "{schema}\n",
    "\n",
    "Question: {question}\n",
    "SQL Query:\"\"\"\n",
    "prompt = ChatPromptTemplate.from_template(template)\n"
   ]
  },
  {
   "cell_type": "code",
   "execution_count": 11,
   "metadata": {},
   "outputs": [
    {
     "data": {
      "text/plain": [
       "\"Human: Based on the table schema below, write a SQL query that would answer the user's question:\\nmy schema\\n\\nQuestion: How many users are there?\\nSQL Query:\""
      ]
     },
     "execution_count": 11,
     "metadata": {},
     "output_type": "execute_result"
    }
   ],
   "source": [
    "prompt.format(schema=\"my schema\",question=\"How many users are there?\")"
   ]
  },
  {
   "cell_type": "code",
   "execution_count": 12,
   "metadata": {},
   "outputs": [],
   "source": [
    "def get_schema(db):\n",
    "    schema = db.get_table_info()\n",
    "    return schema"
   ]
  },
  {
   "cell_type": "code",
   "execution_count": 13,
   "metadata": {},
   "outputs": [],
   "source": [
    "from operator import itemgetter\n",
    "from langchain_core.output_parsers import StrOutputParser # more structured and usable string format.\n",
    "from langchain_core.prompts import PromptTemplate\n",
    "from langchain_core.runnables import RunnablePassthrough # allows you to pass inputs unchanged\n",
    "\n",
    "answer_prompt = PromptTemplate.from_template(\n",
    "    \"\"\"Given the following user question, corresponding SQL query, and SQL result, answer the user question.\n",
    "\n",
    "Question: {question}\n",
    "SQL Query: {query}\n",
    "SQL Result: {result}\n",
    "Answer: \"\"\"\n",
    ")\n",
    "\n",
    "# Answer Chain\n",
    "answer = answer_prompt | llm | StrOutputParser()\n",
    "\n",
    "chain = (\n",
    "    RunnablePassthrough.assign(query=write_query).assign(\n",
    "        result=itemgetter(\"query\") | execute_query\n",
    "    )\n",
    "    | answer\n",
    ")\n",
    "\n",
    "chain.invoke({'question': \"How may Customer are there\"})"
   ]
  },
  {
   "cell_type": "code",
   "execution_count": null,
   "metadata": {},
   "outputs": [],
   "source": []
  }
 ],
 "metadata": {
  "kernelspec": {
   "display_name": "env",
   "language": "python",
   "name": "python3"
  },
  "language_info": {
   "codemirror_mode": {
    "name": "ipython",
    "version": 3
   },
   "file_extension": ".py",
   "mimetype": "text/x-python",
   "name": "python",
   "nbconvert_exporter": "python",
   "pygments_lexer": "ipython3",
   "version": "3.12.0"
  }
 },
 "nbformat": 4,
 "nbformat_minor": 2
}
